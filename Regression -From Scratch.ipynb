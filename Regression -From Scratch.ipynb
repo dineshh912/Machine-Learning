{
 "cells": [
  {
   "cell_type": "markdown",
   "metadata": {},
   "source": [
    "Regerssion  : Y = MX + B \n",
    "\n",
    "    M = Slop \n",
    "    B = Intercept\n",
    "\n",
    "M = ((mean(x) * mean(y) - mean(x * y)) / (mean(x))**2 - mean(x**2))\n",
    "\n",
    "B = mean(y) - m * mean(x)\n",
    "\n",
    "    co-efficient of determiniation = r^2\n",
    "\n",
    "r^2 = 1 - (SE Y^ / SE mean(y))  (or)  r^2 = 1 - (squared error of regression / squared error of mean )\n",
    "\n",
    "\n",
    "squared error of regression = https://www.khanacademy.org/math/statistics-probability/describing-relationships-quantitative-data/more-on-regression/v/squared-error-of-regression-line"
   ]
  },
  {
   "cell_type": "code",
   "execution_count": 1,
   "metadata": {},
   "outputs": [],
   "source": [
    "from statistics import mean\n",
    "import numpy as np\n",
    "import matplotlib.pyplot as plt\n",
    "from matplotlib import style\n",
    "import random\n",
    "\n",
    "style.use('ggplot')"
   ]
  },
  {
   "cell_type": "code",
   "execution_count": 2,
   "metadata": {},
   "outputs": [],
   "source": [
    "def create_dataset(hm,variance,step=2,correlation=False):\n",
    "    val = 1\n",
    "    ys = []\n",
    "    for i in range(hm):\n",
    "        y = val + random.randrange(-variance,variance)\n",
    "        ys.append(y)\n",
    "        if correlation and correlation == 'pos':\n",
    "            val+=step\n",
    "        elif correlation and correlation == 'neg':\n",
    "            val-=step\n",
    "\n",
    "    xs = [i for i in range(len(ys))]\n",
    "    \n",
    "    return np.array(xs, dtype=np.float64),np.array(ys,dtype=np.float64)"
   ]
  },
  {
   "cell_type": "code",
   "execution_count": 3,
   "metadata": {},
   "outputs": [],
   "source": [
    "def best_fit_slop_line(x,y):\n",
    "    m = (((mean(x)*mean(y)) - mean(x*y)) /\n",
    "         ((mean(x)**2) - mean(x**2)))\n",
    "\n",
    "    b = mean(y) - m*mean(x)\n",
    "\n",
    "    return m , b"
   ]
  },
  {
   "cell_type": "code",
   "execution_count": 4,
   "metadata": {},
   "outputs": [],
   "source": [
    "def squared_error(y_original,y_line):\n",
    "    return sum((y_line - y_original) * (y_line - y_original))"
   ]
  },
  {
   "cell_type": "code",
   "execution_count": 5,
   "metadata": {},
   "outputs": [],
   "source": [
    "def coefficient_of_determination(y_original,y_line):\n",
    "    y_mean_line = [mean(y_original) for y in y_original]\n",
    "    squared_error_regr = squared_error(y_original, y_line)\n",
    "    squared_error_y_mean = squared_error(y_original, y_mean_line)\n",
    "    r_squared = 1 - (squared_error_regr/squared_error_y_mean)\n",
    "    \n",
    "    return r_squared"
   ]
  },
  {
   "cell_type": "code",
   "execution_count": 6,
   "metadata": {},
   "outputs": [
    {
     "name": "stdout",
     "output_type": "stream",
     "text": [
      "0.9227420601412015\n"
     ]
    }
   ],
   "source": [
    "x,y = create_dataset(40,10,2,correlation='neg')\n",
    "\n",
    "m , b = best_fit_slop_line(x,y)\n",
    "regression_line = [(m*x)+b for x in x]\n",
    "\n",
    "coefficient_of_determination = coefficient_of_determination(y,regression_line)\n",
    "print(coefficient_of_determination)"
   ]
  },
  {
   "cell_type": "code",
   "execution_count": 7,
   "metadata": {},
   "outputs": [
    {
     "data": {
      "image/png": "[encoded data removed]",
      "text/plain": [
       "<matplotlib.figure.Figure at 0x1f11437b9b0>"
      ]
     },
     "metadata": {},
     "output_type": "display_data"
    }
   ],
   "source": [
    "plt.scatter(x,y,color='#003F72', label = 'data')\n",
    "plt.plot(x, regression_line, label = 'regression line')\n",
    "plt.legend(loc=4)\n",
    "plt.show()"
   ]
  },
  {
   "cell_type": "code",
   "execution_count": null,
   "metadata": {},
   "outputs": [],
   "source": []
  }
 ],
 "metadata": {
  "kernelspec": {
   "display_name": "Python 3",
   "language": "python",
   "name": "python3"
  },
  "language_info": {
   "codemirror_mode": {
    "name": "ipython",
    "version": 3
   },
   "file_extension": ".py",
   "mimetype": "text/x-python",
   "name": "python",
   "nbconvert_exporter": "python",
   "pygments_lexer": "ipython3",
   "version": "3.6.3"
  }
 },
 "nbformat": 4,
 "nbformat_minor": 2
}
