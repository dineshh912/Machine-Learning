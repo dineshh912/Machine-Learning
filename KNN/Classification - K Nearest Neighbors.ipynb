{
 "cells": [
  {
   "cell_type": "markdown",
   "metadata": {},
   "source": [
    "Regression: the output variable takes continuous values.\n",
    "\n",
    "Classification: the output variable takes class labels.\n",
    "\n",
    "    f:x→y\n",
    "\n",
    "If y is discrete/categorical variable, then this is classification problem.\n",
    "\n",
    "If y is real number/continuous, then this is a regression problem."
   ]
  },
  {
   "cell_type": "code",
   "execution_count": 2,
   "metadata": {},
   "outputs": [],
   "source": [
    "import numpy as np\n",
    "from sklearn import preprocessing,cross_validation,neighbors\n",
    "import pandas as pd"
   ]
  },
  {
   "cell_type": "markdown",
   "metadata": {},
   "source": [
    "About The Data Set : https://archive.ics.uci.edu/ml/machine-learning-databases/breast-cancer-wisconsin/breast-cancer-wisconsin.names"
   ]
  },
  {
   "cell_type": "code",
   "execution_count": 5,
   "metadata": {},
   "outputs": [
    {
     "name": "stdout",
     "output_type": "stream",
     "text": [
      "       clump_thickness  uniform_cell_size  uniform_cell_shape  \\\n",
      "count       699.000000         699.000000          699.000000   \n",
      "mean          4.417740           3.134478            3.207439   \n",
      "std           2.815741           3.051459            2.971913   \n",
      "min           1.000000           1.000000            1.000000   \n",
      "25%           2.000000           1.000000            1.000000   \n",
      "50%           4.000000           1.000000            1.000000   \n",
      "75%           6.000000           5.000000            5.000000   \n",
      "max          10.000000          10.000000           10.000000   \n",
      "\n",
      "       marginal_adhesion  single_epi_cell_size  bland_chromation  \\\n",
      "count         699.000000            699.000000        699.000000   \n",
      "mean            2.806867              3.216023          3.437768   \n",
      "std             2.855379              2.214300          2.438364   \n",
      "min             1.000000              1.000000          1.000000   \n",
      "25%             1.000000              2.000000          2.000000   \n",
      "50%             1.000000              2.000000          3.000000   \n",
      "75%             4.000000              4.000000          5.000000   \n",
      "max            10.000000             10.000000         10.000000   \n",
      "\n",
      "       normal_nucleoli     mitoses       class  \n",
      "count       699.000000  699.000000  699.000000  \n",
      "mean          2.866953    1.589413    2.689557  \n",
      "std           3.053634    1.715078    0.951273  \n",
      "min           1.000000    1.000000    2.000000  \n",
      "25%           1.000000    1.000000    2.000000  \n",
      "50%           1.000000    1.000000    2.000000  \n",
      "75%           4.000000    1.000000    4.000000  \n",
      "max          10.000000   10.000000    4.000000  \n"
     ]
    }
   ],
   "source": [
    "df = pd.read_csv('data/breast-cancer-wisconsin.data')\n",
    "df.replace('?' , -99999, inplace = True)\n",
    "df.drop(['id'],1,inplace = True)\n",
    "\n",
    "print(df.describe())"
   ]
  },
  {
   "cell_type": "code",
   "execution_count": 6,
   "metadata": {},
   "outputs": [],
   "source": [
    "# Defining Features and Labels\n",
    "X = np.array(df.drop(['class'], 1))\n",
    "y = np.array(df['class'])"
   ]
  },
  {
   "cell_type": "code",
   "execution_count": 7,
   "metadata": {},
   "outputs": [],
   "source": [
    "X_train, X_test, y_train, y_test = cross_validation.train_test_split(X, y, test_size=0.2)"
   ]
  },
  {
   "cell_type": "code",
   "execution_count": 20,
   "metadata": {},
   "outputs": [
    {
     "data": {
      "text/plain": [
       "KNeighborsClassifier(algorithm='auto', leaf_size=30, metric='minkowski',\n",
       "           metric_params=None, n_jobs=1, n_neighbors=5, p=2,\n",
       "           weights='uniform')"
      ]
     },
     "execution_count": 20,
     "metadata": {},
     "output_type": "execute_result"
    }
   ],
   "source": [
    "clf = neighbors.KNeighborsClassifier(n_neighbors = 5)\n",
    "clf.fit(X_train, y_train)"
   ]
  },
  {
   "cell_type": "code",
   "execution_count": 21,
   "metadata": {},
   "outputs": [
    {
     "name": "stdout",
     "output_type": "stream",
     "text": [
      "0.9928571428571429\n"
     ]
    }
   ],
   "source": [
    "accuracy = clf.score(X_test, y_test)\n",
    "print(accuracy)"
   ]
  },
  {
   "cell_type": "code",
   "execution_count": 11,
   "metadata": {},
   "outputs": [
    {
     "name": "stdout",
     "output_type": "stream",
     "text": [
      "[2 2]\n"
     ]
    }
   ],
   "source": [
    "#Testing With Sample Data \n",
    "\n",
    "example_data = np.array([[4,2,1,1,1,2,3,2,1],[4,2,1,3,2,2,3,2,1]])\n",
    "                         \n",
    "example_data = example_data.reshape(len(example_data), -1)\n",
    "                         \n",
    "prediction = clf.predict(example_data)\n",
    "                         \n",
    "print(prediction)"
   ]
  },
  {
   "cell_type": "code",
   "execution_count": null,
   "metadata": {},
   "outputs": [],
   "source": []
  }
 ],
 "metadata": {
  "kernelspec": {
   "display_name": "Python 3",
   "language": "python",
   "name": "python3"
  },
  "language_info": {
   "codemirror_mode": {
    "name": "ipython",
    "version": 3
   },
   "file_extension": ".py",
   "mimetype": "text/x-python",
   "name": "python",
   "nbconvert_exporter": "python",
   "pygments_lexer": "ipython3",
   "version": "3.6.7"
  }
 },
 "nbformat": 4,
 "nbformat_minor": 2
}
